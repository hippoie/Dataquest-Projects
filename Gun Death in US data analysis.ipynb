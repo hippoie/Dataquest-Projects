{
 "cells": [
  {
   "cell_type": "code",
   "execution_count": 14,
   "metadata": {
    "collapsed": true
   },
   "outputs": [],
   "source": [
    "import csv"
   ]
  },
  {
   "cell_type": "code",
   "execution_count": 15,
   "metadata": {
    "collapsed": false
   },
   "outputs": [],
   "source": [
    "f = open(\"guns.csv\", \"r\")\n",
    "readfile = csv.reader(f)\n",
    "data = list(readfile)"
   ]
  },
  {
   "cell_type": "code",
   "execution_count": 16,
   "metadata": {
    "collapsed": false
   },
   "outputs": [
    {
     "name": "stdout",
     "output_type": "stream",
     "text": [
      "[['', 'year', 'month', 'intent', 'police', 'sex', 'age', 'race', 'hispanic', 'place', 'education'], ['1', '2012', '01', 'Suicide', '0', 'M', '34', 'Asian/Pacific Islander', '100', 'Home', '4'], ['2', '2012', '01', 'Suicide', '0', 'F', '21', 'White', '100', 'Street', '3'], ['3', '2012', '01', 'Suicide', '0', 'M', '60', 'White', '100', 'Other specified', '4'], ['4', '2012', '02', 'Suicide', '0', 'M', '64', 'White', '100', 'Home', '4']]\n"
     ]
    }
   ],
   "source": [
    "print(data[:5])"
   ]
  },
  {
   "cell_type": "markdown",
   "metadata": {},
   "source": [
    "### Extract the header and data part of the dataset"
   ]
  },
  {
   "cell_type": "code",
   "execution_count": 17,
   "metadata": {
    "collapsed": true
   },
   "outputs": [],
   "source": [
    "header = data[0]\n",
    "data = data[1:]"
   ]
  },
  {
   "cell_type": "markdown",
   "metadata": {},
   "source": [
    "### Create a dictionary to count how many gun deaths happened each year"
   ]
  },
  {
   "cell_type": "code",
   "execution_count": 18,
   "metadata": {
    "collapsed": false,
    "scrolled": false
   },
   "outputs": [],
   "source": [
    "years = []\n",
    "for row in data:\n",
    "    years.append(row[1])\n",
    "    \n",
    "# can be also achieved by \n",
    "years = [row[1] for row in data]"
   ]
  },
  {
   "cell_type": "code",
   "execution_count": 19,
   "metadata": {
    "collapsed": false
   },
   "outputs": [
    {
     "data": {
      "text/plain": [
       "{'2012': 33563, '2013': 33636, '2014': 33599}"
      ]
     },
     "execution_count": 19,
     "metadata": {},
     "output_type": "execute_result"
    }
   ],
   "source": [
    "years_counts = {}\n",
    "for year in years:\n",
    "    if year not in years_counts:\n",
    "        years_counts[year] = 1 \n",
    "    else:\n",
    "        years_counts[year] += 1 \n",
    "        \n",
    "years_counts"
   ]
  },
  {
   "cell_type": "markdown",
   "metadata": {},
   "source": [
    "### Create datetime object to calculate gun deaths by month and year"
   ]
  },
  {
   "cell_type": "code",
   "execution_count": 20,
   "metadata": {
    "collapsed": false
   },
   "outputs": [
    {
     "data": {
      "text/plain": [
       "[datetime.datetime(2012, 1, 1, 0, 0),\n",
       " datetime.datetime(2012, 1, 1, 0, 0),\n",
       " datetime.datetime(2012, 1, 1, 0, 0),\n",
       " datetime.datetime(2012, 2, 1, 0, 0),\n",
       " datetime.datetime(2012, 2, 1, 0, 0)]"
      ]
     },
     "execution_count": 20,
     "metadata": {},
     "output_type": "execute_result"
    }
   ],
   "source": [
    "import datetime\n",
    "\n",
    "dates = []\n",
    "for row in data:\n",
    "    year = int(row[1])\n",
    "    month = int(row[2])\n",
    "    dates.append(datetime.datetime(year = year, month = month, day=1))\n",
    "\n",
    "#Also work by \n",
    "dates = [datetime.datetime(year = int(row[1]), month = int(row[2]), day=1)\n",
    "        for row in data\n",
    "        ]\n",
    "dates[:5]"
   ]
  },
  {
   "cell_type": "code",
   "execution_count": 21,
   "metadata": {
    "collapsed": false,
    "scrolled": true
   },
   "outputs": [
    {
     "data": {
      "text/plain": [
       "{datetime.datetime(2012, 1, 1, 0, 0): 2759,\n",
       " datetime.datetime(2012, 2, 1, 0, 0): 2358,\n",
       " datetime.datetime(2012, 3, 1, 0, 0): 2744,\n",
       " datetime.datetime(2012, 4, 1, 0, 0): 2796,\n",
       " datetime.datetime(2012, 5, 1, 0, 0): 3000,\n",
       " datetime.datetime(2012, 6, 1, 0, 0): 2827,\n",
       " datetime.datetime(2012, 7, 1, 0, 0): 3027,\n",
       " datetime.datetime(2012, 8, 1, 0, 0): 2955,\n",
       " datetime.datetime(2012, 9, 1, 0, 0): 2853,\n",
       " datetime.datetime(2012, 10, 1, 0, 0): 2734,\n",
       " datetime.datetime(2012, 11, 1, 0, 0): 2730,\n",
       " datetime.datetime(2012, 12, 1, 0, 0): 2792,\n",
       " datetime.datetime(2013, 1, 1, 0, 0): 2865,\n",
       " datetime.datetime(2013, 2, 1, 0, 0): 2376,\n",
       " datetime.datetime(2013, 3, 1, 0, 0): 2863,\n",
       " datetime.datetime(2013, 4, 1, 0, 0): 2799,\n",
       " datetime.datetime(2013, 5, 1, 0, 0): 2807,\n",
       " datetime.datetime(2013, 6, 1, 0, 0): 2921,\n",
       " datetime.datetime(2013, 7, 1, 0, 0): 3080,\n",
       " datetime.datetime(2013, 8, 1, 0, 0): 2860,\n",
       " datetime.datetime(2013, 9, 1, 0, 0): 2743,\n",
       " datetime.datetime(2013, 10, 1, 0, 0): 2809,\n",
       " datetime.datetime(2013, 11, 1, 0, 0): 2759,\n",
       " datetime.datetime(2013, 12, 1, 0, 0): 2766,\n",
       " datetime.datetime(2014, 1, 1, 0, 0): 2652,\n",
       " datetime.datetime(2014, 2, 1, 0, 0): 2362,\n",
       " datetime.datetime(2014, 3, 1, 0, 0): 2685,\n",
       " datetime.datetime(2014, 4, 1, 0, 0): 2863,\n",
       " datetime.datetime(2014, 5, 1, 0, 0): 2865,\n",
       " datetime.datetime(2014, 6, 1, 0, 0): 2932,\n",
       " datetime.datetime(2014, 7, 1, 0, 0): 2885,\n",
       " datetime.datetime(2014, 8, 1, 0, 0): 2971,\n",
       " datetime.datetime(2014, 9, 1, 0, 0): 2915,\n",
       " datetime.datetime(2014, 10, 1, 0, 0): 2866,\n",
       " datetime.datetime(2014, 11, 1, 0, 0): 2757,\n",
       " datetime.datetime(2014, 12, 1, 0, 0): 2858}"
      ]
     },
     "execution_count": 21,
     "metadata": {},
     "output_type": "execute_result"
    }
   ],
   "source": [
    "date_counts = {}\n",
    "\n",
    "for date in dates:\n",
    "    if date not in date_counts:\n",
    "        date_counts[date] = 1\n",
    "    if date in date_counts:\n",
    "        date_counts[date] += 1\n",
    "\n",
    "date_counts"
   ]
  },
  {
   "cell_type": "markdown",
   "metadata": {},
   "source": [
    "### Use function to count how many times each item occurs in a column"
   ]
  },
  {
   "cell_type": "code",
   "execution_count": 22,
   "metadata": {
    "collapsed": false
   },
   "outputs": [],
   "source": [
    "def item_count(label):\n",
    "    for idx, column in enumerate(header):\n",
    "        if column == label:\n",
    "            index = idx\n",
    "    \n",
    "    column = [row[index] for row in data]\n",
    "        \n",
    "    column_counts = {}\n",
    "    for value in column:\n",
    "        if value not in column_counts:\n",
    "            column_counts[value] = 1 \n",
    "        else:\n",
    "            column_counts[value] += 1\n",
    "            \n",
    "    return column_counts"
   ]
  },
  {
   "cell_type": "code",
   "execution_count": 23,
   "metadata": {
    "collapsed": false
   },
   "outputs": [
    {
     "data": {
      "text/plain": [
       "{'F': 14449, 'M': 86349}"
      ]
     },
     "execution_count": 23,
     "metadata": {},
     "output_type": "execute_result"
    }
   ],
   "source": [
    "item_count('sex')"
   ]
  },
  {
   "cell_type": "code",
   "execution_count": 28,
   "metadata": {
    "collapsed": false
   },
   "outputs": [
    {
     "data": {
      "text/plain": [
       "{'Asian/Pacific Islander': 1326,\n",
       " 'Black': 23296,\n",
       " 'Hispanic': 9022,\n",
       " 'Native American/Native Alaskan': 917,\n",
       " 'White': 66237}"
      ]
     },
     "execution_count": 28,
     "metadata": {},
     "output_type": "execute_result"
    }
   ],
   "source": [
    "race_counts = item_count('race')\n",
    "race_counts"
   ]
  },
  {
   "cell_type": "markdown",
   "metadata": {
    "collapsed": true
   },
   "source": [
    "### Analysis against census data"
   ]
  },
  {
   "cell_type": "code",
   "execution_count": 25,
   "metadata": {
    "collapsed": true
   },
   "outputs": [],
   "source": [
    "f = open(\"census.csv\",'r')\n",
    "readfile = csv.reader(f)\n",
    "census = list(readfile)"
   ]
  },
  {
   "cell_type": "code",
   "execution_count": 26,
   "metadata": {
    "collapsed": false,
    "scrolled": true
   },
   "outputs": [
    {
     "data": {
      "text/plain": [
       "[['Id',\n",
       "  'Year',\n",
       "  'Id',\n",
       "  'Sex',\n",
       "  'Id',\n",
       "  'Hispanic Origin',\n",
       "  'Id',\n",
       "  'Id2',\n",
       "  'Geography',\n",
       "  'Total',\n",
       "  'Race Alone - White',\n",
       "  'Race Alone - Hispanic',\n",
       "  'Race Alone - Black or African American',\n",
       "  'Race Alone - American Indian and Alaska Native',\n",
       "  'Race Alone - Asian',\n",
       "  'Race Alone - Native Hawaiian and Other Pacific Islander',\n",
       "  'Two or More Races'],\n",
       " ['cen42010',\n",
       "  'April 1, 2010 Census',\n",
       "  'totsex',\n",
       "  'Both Sexes',\n",
       "  'tothisp',\n",
       "  'Total',\n",
       "  '0100000US',\n",
       "  '',\n",
       "  'United States',\n",
       "  '308745538',\n",
       "  '197318956',\n",
       "  '44618105',\n",
       "  '40250635',\n",
       "  '3739506',\n",
       "  '15159516',\n",
       "  '674625',\n",
       "  '6984195']]"
      ]
     },
     "execution_count": 26,
     "metadata": {},
     "output_type": "execute_result"
    }
   ],
   "source": [
    "census"
   ]
  },
  {
   "cell_type": "markdown",
   "metadata": {},
   "source": [
    "### Calculate gun deaths rate by race, by comparing against corresponding value in census data"
   ]
  },
  {
   "cell_type": "code",
   "execution_count": 37,
   "metadata": {
    "collapsed": true
   },
   "outputs": [],
   "source": [
    "mapping = {\n",
    "    'Asian/Pacific Islander': 15159516+674625,\n",
    "    'Black': 40250635,\n",
    "    'Hispanic': 44618105,\n",
    "    'Native American/Native Alaskan': 3739506,\n",
    "    'White': 197318956\n",
    "} "
   ]
  },
  {
   "cell_type": "code",
   "execution_count": 38,
   "metadata": {
    "collapsed": false
   },
   "outputs": [
    {
     "data": {
      "text/plain": [
       "{'Asian/Pacific Islander': 8.374309664161762,\n",
       " 'Black': 57.8773477735196,\n",
       " 'Hispanic': 20.220491210910907,\n",
       " 'Native American/Native Alaskan': 24.521955573811088,\n",
       " 'White': 33.56849303419181}"
      ]
     },
     "execution_count": 38,
     "metadata": {},
     "output_type": "execute_result"
    }
   ],
   "source": [
    "race_per_hundredk = {}\n",
    "\n",
    "for key, value in race_counts.items():\n",
    "    race_per_hundredk[key] = value / mapping[key] * 100000\n",
    "    \n",
    "race_per_hundredk"
   ]
  },
  {
   "cell_type": "markdown",
   "metadata": {},
   "source": [
    "### Filtering data to Homicide death only. "
   ]
  },
  {
   "cell_type": "code",
   "execution_count": 60,
   "metadata": {
    "collapsed": false,
    "scrolled": true
   },
   "outputs": [],
   "source": [
    "intents = [row[3] for row in data]\n",
    "races = [row[7] for row in data]"
   ]
  },
  {
   "cell_type": "code",
   "execution_count": 61,
   "metadata": {
    "collapsed": false
   },
   "outputs": [
    {
     "data": {
      "text/plain": [
       "{'Asian/Pacific Islander': 559,\n",
       " 'Black': 19510,\n",
       " 'Hispanic': 5634,\n",
       " 'Native American/Native Alaskan': 326,\n",
       " 'White': 9147}"
      ]
     },
     "execution_count": 61,
     "metadata": {},
     "output_type": "execute_result"
    }
   ],
   "source": [
    "homicide_race_counts = {}\n",
    "for i, race in enumerate(races):\n",
    "    if race not in homicide_race_counts:\n",
    "        homicide_race_counts[race] = 0\n",
    "    if intents[i] == \"Homicide\":\n",
    "        homicide_race_counts[race] += 1\n",
    "        \n",
    "homicide_race_counts"
   ]
  },
  {
   "cell_type": "markdown",
   "metadata": {},
   "source": [
    "### Use a function to wrap the code above and use arguments to make it programatic"
   ]
  },
  {
   "cell_type": "code",
   "execution_count": 70,
   "metadata": {
    "collapsed": false
   },
   "outputs": [
    {
     "data": {
      "text/plain": [
       "{'Asian/Pacific Islander': 559,\n",
       " 'Black': 19510,\n",
       " 'Hispanic': 5634,\n",
       " 'Native American/Native Alaskan': 326,\n",
       " 'White': 9147}"
      ]
     },
     "execution_count": 70,
     "metadata": {},
     "output_type": "execute_result"
    }
   ],
   "source": [
    "#calculate the counts of unique value in labelled column\n",
    "#filtered by a value from another labelled column\n",
    "def item_count_byvalue(label, label2, filtervalue):\n",
    "    for idx, column in enumerate(header):\n",
    "        if column == label:\n",
    "            index = idx\n",
    "        if column == label2:\n",
    "            index2 = idx\n",
    "    \n",
    "    column = [row[index] for row in data]\n",
    "    filter_column = [row[index2] for row in data]\n",
    "        \n",
    "    column_counts_byfilter = {}\n",
    "    for i, value in enumerate(column):\n",
    "        if value not in column_counts_byfilter:\n",
    "            column_counts_byfilter[value] = 0 \n",
    "        if filter_column[i] == filtervalue:\n",
    "            column_counts_byfilter[value] += 1\n",
    "            \n",
    "    return column_counts_byfilter"
   ]
  },
  {
   "cell_type": "code",
   "execution_count": 71,
   "metadata": {
    "collapsed": false
   },
   "outputs": [
    {
     "data": {
      "text/plain": [
       "{'Asian/Pacific Islander': 559,\n",
       " 'Black': 19510,\n",
       " 'Hispanic': 5634,\n",
       " 'Native American/Native Alaskan': 326,\n",
       " 'White': 9147}"
      ]
     },
     "execution_count": 71,
     "metadata": {},
     "output_type": "execute_result"
    }
   ],
   "source": [
    "Homicide_race_counts = item_count_byvalue('race', 'intent', 'Homicide')\n",
    "Homicide_race_counts"
   ]
  },
  {
   "cell_type": "markdown",
   "metadata": {},
   "source": [
    "### Run against census data to get % of population by race"
   ]
  },
  {
   "cell_type": "code",
   "execution_count": 73,
   "metadata": {
    "collapsed": false
   },
   "outputs": [
    {
     "data": {
      "text/plain": [
       "{'Asian/Pacific Islander': 3.530346230970155,\n",
       " 'Black': 48.471284987180944,\n",
       " 'Hispanic': 12.627161104219914,\n",
       " 'Native American/Native Alaskan': 8.717729026240365,\n",
       " 'White': 4.6356417981453335}"
      ]
     },
     "execution_count": 73,
     "metadata": {},
     "output_type": "execute_result"
    }
   ],
   "source": [
    "homicide_byrace_per_hundredk = {}\n",
    "\n",
    "for key, value in homicide_race_counts.items():\n",
    "    homicide_byrace_per_hundredk[key] = value / mapping[key] * 100000\n",
    "    \n",
    "homicide_byrace_per_hundredk"
   ]
  },
  {
   "cell_type": "markdown",
   "metadata": {},
   "source": [
    "Black race has a drastically higher homicide rate of total population than other races. It could has a correlation with education and is worth a correlation analysis. "
   ]
  },
  {
   "cell_type": "code",
   "execution_count": null,
   "metadata": {
    "collapsed": true
   },
   "outputs": [],
   "source": []
  }
 ],
 "metadata": {
  "kernelspec": {
   "display_name": "Python 3",
   "language": "python",
   "name": "python3"
  },
  "language_info": {
   "codemirror_mode": {
    "name": "ipython",
    "version": 3
   },
   "file_extension": ".py",
   "mimetype": "text/x-python",
   "name": "python",
   "nbconvert_exporter": "python",
   "pygments_lexer": "ipython3",
   "version": "3.4.3"
  }
 },
 "nbformat": 4,
 "nbformat_minor": 0
}
